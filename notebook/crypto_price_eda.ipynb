{
 "cells": [
  {
   "cell_type": "code",
   "execution_count": 28,
   "id": "7008705f",
   "metadata": {},
   "outputs": [
    {
     "data": {
      "text/plain": [
       "True"
      ]
     },
     "execution_count": 28,
     "metadata": {},
     "output_type": "execute_result"
    }
   ],
   "source": [
    "import pandas as pd\n",
    "import numpy as np\n",
    "import matplotlib.pyplot as plt\n",
    "import seaborn as sns\n",
    "import requests\n",
    "import os\n",
    "from dotenv import load_dotenv\n",
    "\n",
    "load_dotenv()"
   ]
  },
  {
   "cell_type": "code",
   "execution_count": 3,
   "id": "65f887b7",
   "metadata": {},
   "outputs": [],
   "source": [
    "SUPABASE_PROJECT_ID = os.environ.get(\"SUPABASE_PROJECT_ID\")\n",
    "SUPABASE_KEY = os.environ.get(\"SUPABASE_KEY\")\n",
    "# SUPABASE_URL = f\"https://{SUPABASE_PROJECT_ID}.supabase.co/rest/v1/{TABLE_NAME}\""
   ]
  },
  {
   "cell_type": "code",
   "execution_count": null,
   "id": "c9ca2a36",
   "metadata": {},
   "outputs": [],
   "source": [
    "def fetch_prices_from_supabase(supabase_url: str):\n",
    "    \"\"\"Retrieve price data from Supabase.\"\"\"\n",
    "    headers = {\n",
    "        \"apikey\": SUPABASE_KEY,\n",
    "        \"Authorization\": f\"Bearer {SUPABASE_KEY}\",\n",
    "        \"Content-Type\": \"application/json\"\n",
    "    }\n",
    "    response = requests.get(f\"{supabase_url}?select=token_id,price,created_at\", headers=headers)\n",
    "    if response.status_code == 200:\n",
    "        return response.json()\n",
    "    else:\n",
    "        raise Exception(f\"Supabase error: {response.status_code}, {response.text}\")"
   ]
  },
  {
   "cell_type": "code",
   "execution_count": null,
   "id": "5944e98a",
   "metadata": {},
   "outputs": [],
   "source": [
    "price_url = f\"https://{SUPABASE_PROJECT_ID}.supabase.co/rest/v1/crypto_price_usd\"\n",
    "price_raw = fetch_prices_from_supabase(supabase_url=price_url)"
   ]
  },
  {
   "cell_type": "code",
   "execution_count": 20,
   "id": "159fe6f1",
   "metadata": {},
   "outputs": [],
   "source": [
    "raw_df = pd.DataFrame.from_dict(price_raw)\n",
    "raw_df['created_at'] = pd.to_datetime(raw_df['created_at'])\n",
    "raw_df['hour'] = raw_df['created_at'].apply(lambda t: t.replace(minute=0, second=0, microsecond=0))\n",
    "\n",
    "price_df = raw_df[['hour', 'token_id', 'price']].set_index(['hour', 'token_id'])"
   ]
  },
  {
   "cell_type": "code",
   "execution_count": 37,
   "id": "d45f72ed",
   "metadata": {},
   "outputs": [
    {
     "name": "stdout",
     "output_type": "stream",
     "text": [
      "2025-07-20 13:00:00+00:00  |  2025-07-21 23:00:00+00:00\n"
     ]
    }
   ],
   "source": [
    "test_df = price_df[price_df.index.get_level_values(1) == 'aave']\n",
    "times = test_df.index.levels[0]\n",
    "print(times.min(), ' | ', times.max())"
   ]
  },
  {
   "cell_type": "code",
   "execution_count": null,
   "id": "dc6b489c",
   "metadata": {},
   "outputs": [],
   "source": []
  }
 ],
 "metadata": {
  "kernelspec": {
   "display_name": ".venv",
   "language": "python",
   "name": "python3"
  },
  "language_info": {
   "codemirror_mode": {
    "name": "ipython",
    "version": 3
   },
   "file_extension": ".py",
   "mimetype": "text/x-python",
   "name": "python",
   "nbconvert_exporter": "python",
   "pygments_lexer": "ipython3",
   "version": "3.11.1"
  }
 },
 "nbformat": 4,
 "nbformat_minor": 5
}
